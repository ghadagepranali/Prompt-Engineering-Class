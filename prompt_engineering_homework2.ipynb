{
  "nbformat": 4,
  "nbformat_minor": 0,
  "metadata": {
    "colab": {
      "provenance": []
    },
    "kernelspec": {
      "name": "python3",
      "display_name": "Python 3"
    },
    "language_info": {
      "name": "python"
    }
  },
  "cells": [
    {
      "cell_type": "code",
      "execution_count": 1,
      "metadata": {
        "colab": {
          "base_uri": "https://localhost:8080/"
        },
        "id": "iVJo32ynOUEu",
        "outputId": "032e7c08-f2c0-417f-d88c-1028db5d7750"
      },
      "outputs": [
        {
          "output_type": "stream",
          "name": "stdout",
          "text": [
            "Collecting langchain\n",
            "  Downloading langchain-0.2.14-py3-none-any.whl.metadata (7.1 kB)\n",
            "Collecting groq\n",
            "  Downloading groq-0.9.0-py3-none-any.whl.metadata (13 kB)\n",
            "Requirement already satisfied: PyYAML>=5.3 in /usr/local/lib/python3.10/dist-packages (from langchain) (6.0.2)\n",
            "Requirement already satisfied: SQLAlchemy<3,>=1.4 in /usr/local/lib/python3.10/dist-packages (from langchain) (2.0.32)\n",
            "Requirement already satisfied: aiohttp<4.0.0,>=3.8.3 in /usr/local/lib/python3.10/dist-packages (from langchain) (3.10.5)\n",
            "Requirement already satisfied: async-timeout<5.0.0,>=4.0.0 in /usr/local/lib/python3.10/dist-packages (from langchain) (4.0.3)\n",
            "Collecting langchain-core<0.3.0,>=0.2.32 (from langchain)\n",
            "  Downloading langchain_core-0.2.35-py3-none-any.whl.metadata (6.2 kB)\n",
            "Collecting langchain-text-splitters<0.3.0,>=0.2.0 (from langchain)\n",
            "  Downloading langchain_text_splitters-0.2.2-py3-none-any.whl.metadata (2.1 kB)\n",
            "Collecting langsmith<0.2.0,>=0.1.17 (from langchain)\n",
            "  Downloading langsmith-0.1.104-py3-none-any.whl.metadata (13 kB)\n",
            "Requirement already satisfied: numpy<2,>=1 in /usr/local/lib/python3.10/dist-packages (from langchain) (1.26.4)\n",
            "Requirement already satisfied: pydantic<3,>=1 in /usr/local/lib/python3.10/dist-packages (from langchain) (2.8.2)\n",
            "Requirement already satisfied: requests<3,>=2 in /usr/local/lib/python3.10/dist-packages (from langchain) (2.32.3)\n",
            "Collecting tenacity!=8.4.0,<9.0.0,>=8.1.0 (from langchain)\n",
            "  Downloading tenacity-8.5.0-py3-none-any.whl.metadata (1.2 kB)\n",
            "Requirement already satisfied: anyio<5,>=3.5.0 in /usr/local/lib/python3.10/dist-packages (from groq) (3.7.1)\n",
            "Requirement already satisfied: distro<2,>=1.7.0 in /usr/lib/python3/dist-packages (from groq) (1.7.0)\n",
            "Collecting httpx<1,>=0.23.0 (from groq)\n",
            "  Downloading httpx-0.27.0-py3-none-any.whl.metadata (7.2 kB)\n",
            "Requirement already satisfied: sniffio in /usr/local/lib/python3.10/dist-packages (from groq) (1.3.1)\n",
            "Requirement already satisfied: typing-extensions<5,>=4.7 in /usr/local/lib/python3.10/dist-packages (from groq) (4.12.2)\n",
            "Requirement already satisfied: aiohappyeyeballs>=2.3.0 in /usr/local/lib/python3.10/dist-packages (from aiohttp<4.0.0,>=3.8.3->langchain) (2.4.0)\n",
            "Requirement already satisfied: aiosignal>=1.1.2 in /usr/local/lib/python3.10/dist-packages (from aiohttp<4.0.0,>=3.8.3->langchain) (1.3.1)\n",
            "Requirement already satisfied: attrs>=17.3.0 in /usr/local/lib/python3.10/dist-packages (from aiohttp<4.0.0,>=3.8.3->langchain) (24.2.0)\n",
            "Requirement already satisfied: frozenlist>=1.1.1 in /usr/local/lib/python3.10/dist-packages (from aiohttp<4.0.0,>=3.8.3->langchain) (1.4.1)\n",
            "Requirement already satisfied: multidict<7.0,>=4.5 in /usr/local/lib/python3.10/dist-packages (from aiohttp<4.0.0,>=3.8.3->langchain) (6.0.5)\n",
            "Requirement already satisfied: yarl<2.0,>=1.0 in /usr/local/lib/python3.10/dist-packages (from aiohttp<4.0.0,>=3.8.3->langchain) (1.9.4)\n",
            "Requirement already satisfied: idna>=2.8 in /usr/local/lib/python3.10/dist-packages (from anyio<5,>=3.5.0->groq) (3.7)\n",
            "Requirement already satisfied: exceptiongroup in /usr/local/lib/python3.10/dist-packages (from anyio<5,>=3.5.0->groq) (1.2.2)\n",
            "Requirement already satisfied: certifi in /usr/local/lib/python3.10/dist-packages (from httpx<1,>=0.23.0->groq) (2024.7.4)\n",
            "Collecting httpcore==1.* (from httpx<1,>=0.23.0->groq)\n",
            "  Downloading httpcore-1.0.5-py3-none-any.whl.metadata (20 kB)\n",
            "Collecting h11<0.15,>=0.13 (from httpcore==1.*->httpx<1,>=0.23.0->groq)\n",
            "  Downloading h11-0.14.0-py3-none-any.whl.metadata (8.2 kB)\n",
            "Collecting jsonpatch<2.0,>=1.33 (from langchain-core<0.3.0,>=0.2.32->langchain)\n",
            "  Downloading jsonpatch-1.33-py2.py3-none-any.whl.metadata (3.0 kB)\n",
            "Requirement already satisfied: packaging<25,>=23.2 in /usr/local/lib/python3.10/dist-packages (from langchain-core<0.3.0,>=0.2.32->langchain) (24.1)\n",
            "Collecting orjson<4.0.0,>=3.9.14 (from langsmith<0.2.0,>=0.1.17->langchain)\n",
            "  Downloading orjson-3.10.7-cp310-cp310-manylinux_2_17_x86_64.manylinux2014_x86_64.whl.metadata (50 kB)\n",
            "\u001b[2K     \u001b[90m━━━━━━━━━━━━━━━━━━━━━━━━━━━━━━━━━━━━━━━━\u001b[0m \u001b[32m50.4/50.4 kB\u001b[0m \u001b[31m792.8 kB/s\u001b[0m eta \u001b[36m0:00:00\u001b[0m\n",
            "\u001b[?25hRequirement already satisfied: annotated-types>=0.4.0 in /usr/local/lib/python3.10/dist-packages (from pydantic<3,>=1->langchain) (0.7.0)\n",
            "Requirement already satisfied: pydantic-core==2.20.1 in /usr/local/lib/python3.10/dist-packages (from pydantic<3,>=1->langchain) (2.20.1)\n",
            "Requirement already satisfied: charset-normalizer<4,>=2 in /usr/local/lib/python3.10/dist-packages (from requests<3,>=2->langchain) (3.3.2)\n",
            "Requirement already satisfied: urllib3<3,>=1.21.1 in /usr/local/lib/python3.10/dist-packages (from requests<3,>=2->langchain) (2.0.7)\n",
            "Requirement already satisfied: greenlet!=0.4.17 in /usr/local/lib/python3.10/dist-packages (from SQLAlchemy<3,>=1.4->langchain) (3.0.3)\n",
            "Collecting jsonpointer>=1.9 (from jsonpatch<2.0,>=1.33->langchain-core<0.3.0,>=0.2.32->langchain)\n",
            "  Downloading jsonpointer-3.0.0-py2.py3-none-any.whl.metadata (2.3 kB)\n",
            "Downloading langchain-0.2.14-py3-none-any.whl (997 kB)\n",
            "\u001b[2K   \u001b[90m━━━━━━━━━━━━━━━━━━━━━━━━━━━━━━━━━━━━━━━━\u001b[0m \u001b[32m997.8/997.8 kB\u001b[0m \u001b[31m3.6 MB/s\u001b[0m eta \u001b[36m0:00:00\u001b[0m\n",
            "\u001b[?25hDownloading groq-0.9.0-py3-none-any.whl (103 kB)\n",
            "\u001b[2K   \u001b[90m━━━━━━━━━━━━━━━━━━━━━━━━━━━━━━━━━━━━━━━━\u001b[0m \u001b[32m103.5/103.5 kB\u001b[0m \u001b[31m3.0 MB/s\u001b[0m eta \u001b[36m0:00:00\u001b[0m\n",
            "\u001b[?25hDownloading httpx-0.27.0-py3-none-any.whl (75 kB)\n",
            "\u001b[2K   \u001b[90m━━━━━━━━━━━━━━━━━━━━━━━━━━━━━━━━━━━━━━━━\u001b[0m \u001b[32m75.6/75.6 kB\u001b[0m \u001b[31m2.4 MB/s\u001b[0m eta \u001b[36m0:00:00\u001b[0m\n",
            "\u001b[?25hDownloading httpcore-1.0.5-py3-none-any.whl (77 kB)\n",
            "\u001b[2K   \u001b[90m━━━━━━━━━━━━━━━━━━━━━━━━━━━━━━━━━━━━━━━━\u001b[0m \u001b[32m77.9/77.9 kB\u001b[0m \u001b[31m2.8 MB/s\u001b[0m eta \u001b[36m0:00:00\u001b[0m\n",
            "\u001b[?25hDownloading langchain_core-0.2.35-py3-none-any.whl (394 kB)\n",
            "\u001b[2K   \u001b[90m━━━━━━━━━━━━━━━━━━━━━━━━━━━━━━━━━━━━━━━━\u001b[0m \u001b[32m394.9/394.9 kB\u001b[0m \u001b[31m3.4 MB/s\u001b[0m eta \u001b[36m0:00:00\u001b[0m\n",
            "\u001b[?25hDownloading langchain_text_splitters-0.2.2-py3-none-any.whl (25 kB)\n",
            "Downloading langsmith-0.1.104-py3-none-any.whl (149 kB)\n",
            "\u001b[2K   \u001b[90m━━━━━━━━━━━━━━━━━━━━━━━━━━━━━━━━━━━━━━━━\u001b[0m \u001b[32m149.1/149.1 kB\u001b[0m \u001b[31m3.0 MB/s\u001b[0m eta \u001b[36m0:00:00\u001b[0m\n",
            "\u001b[?25hDownloading tenacity-8.5.0-py3-none-any.whl (28 kB)\n",
            "Downloading jsonpatch-1.33-py2.py3-none-any.whl (12 kB)\n",
            "Downloading orjson-3.10.7-cp310-cp310-manylinux_2_17_x86_64.manylinux2014_x86_64.whl (141 kB)\n",
            "\u001b[2K   \u001b[90m━━━━━━━━━━━━━━━━━━━━━━━━━━━━━━━━━━━━━━━━\u001b[0m \u001b[32m141.9/141.9 kB\u001b[0m \u001b[31m2.8 MB/s\u001b[0m eta \u001b[36m0:00:00\u001b[0m\n",
            "\u001b[?25hDownloading h11-0.14.0-py3-none-any.whl (58 kB)\n",
            "\u001b[2K   \u001b[90m━━━━━━━━━━━━━━━━━━━━━━━━━━━━━━━━━━━━━━━━\u001b[0m \u001b[32m58.3/58.3 kB\u001b[0m \u001b[31m2.2 MB/s\u001b[0m eta \u001b[36m0:00:00\u001b[0m\n",
            "\u001b[?25hDownloading jsonpointer-3.0.0-py2.py3-none-any.whl (7.6 kB)\n",
            "Installing collected packages: tenacity, orjson, jsonpointer, h11, jsonpatch, httpcore, httpx, langsmith, groq, langchain-core, langchain-text-splitters, langchain\n",
            "  Attempting uninstall: tenacity\n",
            "    Found existing installation: tenacity 9.0.0\n",
            "    Uninstalling tenacity-9.0.0:\n",
            "      Successfully uninstalled tenacity-9.0.0\n",
            "Successfully installed groq-0.9.0 h11-0.14.0 httpcore-1.0.5 httpx-0.27.0 jsonpatch-1.33 jsonpointer-3.0.0 langchain-0.2.14 langchain-core-0.2.35 langchain-text-splitters-0.2.2 langsmith-0.1.104 orjson-3.10.7 tenacity-8.5.0\n",
            "Collecting langchain-groq\n",
            "  Downloading langchain_groq-0.1.9-py3-none-any.whl.metadata (2.9 kB)\n",
            "Requirement already satisfied: groq in /usr/local/lib/python3.10/dist-packages (0.9.0)\n",
            "Requirement already satisfied: langchain-core<0.3.0,>=0.2.26 in /usr/local/lib/python3.10/dist-packages (from langchain-groq) (0.2.35)\n",
            "Requirement already satisfied: anyio<5,>=3.5.0 in /usr/local/lib/python3.10/dist-packages (from groq) (3.7.1)\n",
            "Requirement already satisfied: distro<2,>=1.7.0 in /usr/lib/python3/dist-packages (from groq) (1.7.0)\n",
            "Requirement already satisfied: httpx<1,>=0.23.0 in /usr/local/lib/python3.10/dist-packages (from groq) (0.27.0)\n",
            "Requirement already satisfied: pydantic<3,>=1.9.0 in /usr/local/lib/python3.10/dist-packages (from groq) (2.8.2)\n",
            "Requirement already satisfied: sniffio in /usr/local/lib/python3.10/dist-packages (from groq) (1.3.1)\n",
            "Requirement already satisfied: typing-extensions<5,>=4.7 in /usr/local/lib/python3.10/dist-packages (from groq) (4.12.2)\n",
            "Requirement already satisfied: idna>=2.8 in /usr/local/lib/python3.10/dist-packages (from anyio<5,>=3.5.0->groq) (3.7)\n",
            "Requirement already satisfied: exceptiongroup in /usr/local/lib/python3.10/dist-packages (from anyio<5,>=3.5.0->groq) (1.2.2)\n",
            "Requirement already satisfied: certifi in /usr/local/lib/python3.10/dist-packages (from httpx<1,>=0.23.0->groq) (2024.7.4)\n",
            "Requirement already satisfied: httpcore==1.* in /usr/local/lib/python3.10/dist-packages (from httpx<1,>=0.23.0->groq) (1.0.5)\n",
            "Requirement already satisfied: h11<0.15,>=0.13 in /usr/local/lib/python3.10/dist-packages (from httpcore==1.*->httpx<1,>=0.23.0->groq) (0.14.0)\n",
            "Requirement already satisfied: PyYAML>=5.3 in /usr/local/lib/python3.10/dist-packages (from langchain-core<0.3.0,>=0.2.26->langchain-groq) (6.0.2)\n",
            "Requirement already satisfied: jsonpatch<2.0,>=1.33 in /usr/local/lib/python3.10/dist-packages (from langchain-core<0.3.0,>=0.2.26->langchain-groq) (1.33)\n",
            "Requirement already satisfied: langsmith<0.2.0,>=0.1.75 in /usr/local/lib/python3.10/dist-packages (from langchain-core<0.3.0,>=0.2.26->langchain-groq) (0.1.104)\n",
            "Requirement already satisfied: packaging<25,>=23.2 in /usr/local/lib/python3.10/dist-packages (from langchain-core<0.3.0,>=0.2.26->langchain-groq) (24.1)\n",
            "Requirement already satisfied: tenacity!=8.4.0,<9.0.0,>=8.1.0 in /usr/local/lib/python3.10/dist-packages (from langchain-core<0.3.0,>=0.2.26->langchain-groq) (8.5.0)\n",
            "Requirement already satisfied: annotated-types>=0.4.0 in /usr/local/lib/python3.10/dist-packages (from pydantic<3,>=1.9.0->groq) (0.7.0)\n",
            "Requirement already satisfied: pydantic-core==2.20.1 in /usr/local/lib/python3.10/dist-packages (from pydantic<3,>=1.9.0->groq) (2.20.1)\n",
            "Requirement already satisfied: jsonpointer>=1.9 in /usr/local/lib/python3.10/dist-packages (from jsonpatch<2.0,>=1.33->langchain-core<0.3.0,>=0.2.26->langchain-groq) (3.0.0)\n",
            "Requirement already satisfied: orjson<4.0.0,>=3.9.14 in /usr/local/lib/python3.10/dist-packages (from langsmith<0.2.0,>=0.1.75->langchain-core<0.3.0,>=0.2.26->langchain-groq) (3.10.7)\n",
            "Requirement already satisfied: requests<3,>=2 in /usr/local/lib/python3.10/dist-packages (from langsmith<0.2.0,>=0.1.75->langchain-core<0.3.0,>=0.2.26->langchain-groq) (2.32.3)\n",
            "Requirement already satisfied: charset-normalizer<4,>=2 in /usr/local/lib/python3.10/dist-packages (from requests<3,>=2->langsmith<0.2.0,>=0.1.75->langchain-core<0.3.0,>=0.2.26->langchain-groq) (3.3.2)\n",
            "Requirement already satisfied: urllib3<3,>=1.21.1 in /usr/local/lib/python3.10/dist-packages (from requests<3,>=2->langsmith<0.2.0,>=0.1.75->langchain-core<0.3.0,>=0.2.26->langchain-groq) (2.0.7)\n",
            "Downloading langchain_groq-0.1.9-py3-none-any.whl (14 kB)\n",
            "Installing collected packages: langchain-groq\n",
            "Successfully installed langchain-groq-0.1.9\n"
          ]
        }
      ],
      "source": [
        "\n",
        "!pip install langchain groq\n",
        "!pip install langchain-groq groq"
      ]
    },
    {
      "cell_type": "code",
      "source": [
        "from langchain_groq import ChatGroq\n",
        "from langchain.chains import LLMChain, SimpleSequentialChain\n",
        "from langchain_core.messages import AIMessage, HumanMessage, SystemMessage\n",
        "from langchain.prompts import Prompt\n",
        "from langchain import PromptTemplate, LLMChain\n",
        "import os\n",
        "\n",
        "# Set your Groq API key\n",
        "os.environ[\"GROQ_API_KEY\"] = \"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\"\n",
        "\n",
        "# Initialize the Groq LLM\n",
        "llm = ChatGroq(model_name=\"mixtral-8x7b-32768\")\n",
        ""
      ],
      "metadata": {
        "id": "yne6fm6GOtDq"
      },
      "execution_count": 2,
      "outputs": []
    },
    {
      "cell_type": "markdown",
      "source": [
        "Question 1: Chain-of-Thought Prompting Implement a Chain-of-Thought prompting system to solve word problems. Your system should break down the problem-solving process into steps and show its reasoning.\n",
        "\n",
        "Task:\n",
        "\n",
        "● Create a function that takes a word problem as input.\n",
        "\n",
        "● Use the OpenAI API or any other LLM API to generate a step-by-step solution.\n",
        "\n",
        "● The output should show each step of the reasoning process.\n",
        "\n",
        "● Test your function with at least two word problems of varying complexity.\n",
        "\n",
        "Example word problem: \"A baker has 150 eggs. If each cake requires 3 eggs and each cookie requires 2 eggs, how many cakes and cookies can the baker make if they want to use all the eggs and make an equal number of each?\""
      ],
      "metadata": {
        "id": "a0J3k0BxOoVr"
      }
    },
    {
      "cell_type": "code",
      "source": [
        "#Setup HumanMessage, SystemMessage for simple prompt.\n",
        "example = \"\"\"\n",
        "Question: A gardener has 36 seeds. Each plant requires either 3 seeds for a rose or 4 seeds for a tulip. The gardener wants to use all the seeds and plant an equal number of roses and tulips.Answer: 10.\n",
        "Answer: 5.14\n",
        "Question: A library has 98 books. If they lent out 22 books and then received 9 more as donations, how many books does the library have now?\n",
        "Answer:\n",
        "\"\"\"\n",
        "human_message = HumanMessage(content=example)\n",
        "system_message = SystemMessage(content=\"You are helpful assistant.\")\n",
        "\n",
        "\n",
        "new_prompt = (system_message + human_message)\n",
        "\n",
        "print (f\"Prompt: {new_prompt}\")\n",
        "\n",
        "chain = LLMChain(llm=llm, prompt=new_prompt)\n",
        "reponse = chain.run({})\n",
        "print(f\"Response: {reponse}\")"
      ],
      "metadata": {
        "colab": {
          "base_uri": "https://localhost:8080/"
        },
        "id": "HqQUpaesOdQ9",
        "outputId": "75518c52-15b3-47e6-92b7-875e0a9d583c"
      },
      "execution_count": 3,
      "outputs": [
        {
          "output_type": "stream",
          "name": "stdout",
          "text": [
            "Prompt: input_variables=[] messages=[SystemMessage(content='You are helpful assistant.'), HumanMessage(content='\\nQuestion: A gardener has 36 seeds. Each plant requires either 3 seeds for a rose or 4 seeds for a tulip. The gardener wants to use all the seeds and plant an equal number of roses and tulips.Answer: 10.\\nAnswer: 5.14\\nQuestion: A library has 98 books. If they lent out 22 books and then received 9 more as donations, how many books does the library have now?\\nAnswer:\\n')]\n"
          ]
        },
        {
          "output_type": "stream",
          "name": "stderr",
          "text": [
            "/usr/local/lib/python3.10/dist-packages/langchain_core/_api/deprecation.py:151: LangChainDeprecationWarning: The class `LLMChain` was deprecated in LangChain 0.1.17 and will be removed in 1.0. Use RunnableSequence, e.g., `prompt | llm` instead.\n",
            "  warn_deprecated(\n",
            "/usr/local/lib/python3.10/dist-packages/langchain_core/_api/deprecation.py:151: LangChainDeprecationWarning: The method `Chain.run` was deprecated in langchain 0.1.0 and will be removed in 1.0. Use invoke instead.\n",
            "  warn_deprecated(\n"
          ]
        },
        {
          "output_type": "stream",
          "name": "stdout",
          "text": [
            "Response: The library has 115 books now.\n",
            "\n",
            "To find the final number of books, you need to add the number of books initially in the library (98) to the number of books lent out and then returned (22 - 22 = 0), and then add the number of books received as donations (9). So, 98 + 0 + 9 = 115.\n"
          ]
        }
      ]
    },
    {
      "cell_type": "markdown",
      "source": [
        "Question 2: Prompt-chaining Develop a prompt-chaining system that generates a short story based on user input. Thesystem should use multiple prompts in sequence, with each prompt building on the output of theprevious one.\n",
        "\n",
        "Task:\n",
        "\n",
        "● Create a series of at least 3 prompts that will be chained together.\n",
        "\n",
        "● The first prompt should ask for a genre and main character.\n",
        "\n",
        "● Subsequent prompts should build on previous outputs to develop the plot and conclusion.\n",
        "\n",
        "● Implement the chaining logic to pass information between prompts.\n",
        "\n",
        "● Allow the user to input the initial genre and main character.\n",
        "\n",
        "● Output the final story generated through the chain."
      ],
      "metadata": {
        "id": "BT588jByPK7b"
      }
    },
    {
      "cell_type": "code",
      "source": [
        "# System message setup\n",
        "system_message = SystemMessage(content=\"You are a creative assistant for generating short stories.\")\n",
        "\n",
        "# Prompt 1: Get genre and main character\n",
        "initial_prompt = HumanMessage(content=\"Provide a genre and a main character for a short story.\")\n",
        "\n",
        "# Create the chain and get the genre and character\n",
        "chain1 = LLMChain(llm=llm, prompt=system_message + initial_prompt)\n",
        "response1 = chain1.run({})\n",
        "\n",
        "try:\n",
        "    genre, character = response1.split(', ')\n",
        "except ValueError as e:\n",
        "    print(f\"Error parsing response: {e}\")\n",
        "    genre, character = None, None\n",
        "\n",
        "# Example response\n",
        "response1 = \"Adventure,jungle book\"\n",
        "print(f\"Genre: {genre}, \\nCharacter: {character}\")\n",
        "\n",
        "# Prompt 2: Develop the plot based on the genre and character\n",
        "plot_prompt = HumanMessage(content=f\"Based on the genre '{genre}' and the main character '{character}', write a brief plot outline for a short story.\")\n",
        "\n",
        "# Create the chain and get the plot\n",
        "chain2 = LLMChain(llm=llm, prompt=system_message + plot_prompt)\n",
        "plot = chain2.run({})\n",
        "\n",
        "# Prompt 3: Write the conclusion based on the plot\n",
        "conclusion_prompt = HumanMessage(content=f\"Based on the plot outline provided, write the conclusion for the short story.\")\n",
        "\n",
        "# Create the chain and get the conclusion\n",
        "chain3 = LLMChain(llm=llm, prompt=system_message + conclusion_prompt)\n",
        "conclusion = chain3.run({})\n",
        "\n",
        "# Combine all parts to form the final story\n",
        "final_story = f\"Genre: {genre}\\nMain Character: {character}\\nPlot: {plot}\\nConclusion: {conclusion}\"\n",
        "print(final_story)"
      ],
      "metadata": {
        "colab": {
          "base_uri": "https://localhost:8080/"
        },
        "id": "lQmZg_thPL-i",
        "outputId": "56f3cbb5-f06c-432e-aaef-66fc6c6129bb"
      },
      "execution_count": 4,
      "outputs": [
        {
          "output_type": "stream",
          "name": "stdout",
          "text": [
            "Error parsing response: too many values to unpack (expected 2)\n",
            "Genre: None, \n",
            "Character: None\n",
            "Genre: None\n",
            "Main Character: None\n",
            "Plot: Title: The Infinite Blank\n",
            "\n",
            "In a world where reality is composed of stories, a mysterious entity known as the Void finds itself without a narrative. As the embodiment of absence, the Void has always been a passive observer, lurking in the margins of tales yet to be told. However, a sudden shift in the narrative fabric causes the Void to be expelled from the grand tapestry of stories, leaving it stranded in a realm of utter nothingness.\n",
            "\n",
            "Determined to reclaim its place in the narrative, the Void embarks on a journey through the boundless expanse of nonexistence. Along the way, it encounters a myriad of abandoned ideas, forgotten characters, and shattered plotlines, all victims of the ever-changing narrative landscape. Intrigued by these discarded remnants, the Void begins to absorb them, discovering the power to shape and weave its own story from the very essence of nothingness.\n",
            "\n",
            "As the Void's understanding of its newfound abilities grows, it faces a crucial decision: should it strive to return to the world of stories, or forge a new path and create its own reality? Emboldened by the infinite possibilities that lie within the blank canvas of nonexistence, the Void chooses to embrace its role as the architect of its own tale, thus becoming the progenitor of an entirely new genre: the literature of nothing.\n",
            "\n",
            "In this realm, the Void crafts a series of mesmerizing narratives that explore the depths of emptiness, the beauty of absence, and the power of the unwritten. These stories captivate the inhabitants of the narrative world, who become enamored with the enigmatic Void and its unique perspective on storytelling. The Void's creations inspire a revolution in the literary world, as storytellers from all corners of the narrative realm begin to incorporate elements of nothingness into their own works.\n",
            "\n",
            "Meanwhile, the Void's growing influence within the narrative world attracts the attention of the Architect, the enigmatic deity responsible for maintaining the grand tapestry of stories. Intrigued by the Void's accomplishments and the potential of its unique abilities, the Architect offers the Void a chance to return to the narrative world and collaborate on the creation of a new epic.\n",
            "\n",
            "Torn between the allure of rejoining the world of stories and the freedom of crafting its own reality, the Void ultimately decides to remain in the realm of nonexistence. Grateful for the Void's contribution to the narrative world, the Architect bestows upon it a singular gift: the ability to traverse the boundaries between stories, allowing the Void to experience an infinite array of narratives while remaining firmly rooted in its own realm of nothingness.\n",
            "\n",
            "With its newfound power, the Void becomes a ceaseless wanderer through the ever-expanding tapestry of tales, weaving its unique perspective and the essence of nothingness into the fabric of stories both old and new. And so, the Void continues its eternal journey through the realms of narrative, forever exploring the limitless potential of the infinite blank.\n",
            "Conclusion: Plot Outline: A young inventor, Alex, creates a time machine and decides to visit the age of the dinosaurs. After repairing a few malfunctions, Alex successfully travels back in time. However, while exploring, he is chased by a T-Rex and accidentally leaves his time machine behind.\n",
            "\n",
            "Conclusion:\n",
            "\n",
            "As Alex climbed the nearest tree, heart pounding and breath shallow, he looked back at the vast expanse of prehistoric wilderness. The T-Rex roared in frustration, unable to reach its newfound prey. High up in the branches, Alex realized his dire situation. The sun began to set, and he was stranded millions of years away from home.\n",
            "\n",
            "Despair started to creep in, but Alex, being the resourceful inventor he was, refused to give up. He spent the night working on a new invention, using the resources available to him in this ancient era. By the time the sun rose, Alex had completed a rudimentary communication device. It was crude, but it was enough to send a message to his own time, hoping that his older self would pick it up.\n",
            "\n",
            "Days turned into weeks, and Alex fought to survive in the unforgiving world of the dinosaurs. He built shelters, hunted small reptiles, and devised strategies to avoid the dangerous predators. All the while, he sent messages back in time, hoping for a reply.\n",
            "\n",
            "Finally, after what seemed like an eternity, Alex received a response. His older self had received his messages and had built a second time machine. With the help of his older self, Alex was rescued from the past and brought back to his own time.\n",
            "\n",
            "His adventure in the age of the dinosaurs had taught him valuable lessons about resilience, resourcefulness, and the power of hope. He decided to dedicate his life to inventing for the betterment of humanity, inspired by the incredible experience he had lived through. And as for the time machine, he decided to lock it away for good, having learned that some adventures were best left in the past.\n"
          ]
        }
      ]
    },
    {
      "cell_type": "markdown",
      "source": [
        "Question 3: Tree-of-Thought Prompting Implement a Tree-of-Thought prompting system to solve a complex problem. The system should explore multiple paths of reasoning and select the most promising one. Task:\n",
        "\n",
        "● Create a function that takes a complex problem as input.\n",
        "\n",
        "● Generate at least 3 different initial approaches to solving the problem.\n",
        "\n",
        "● For each approach, develop 2-3 possible next steps.\n",
        "\n",
        "● Implement a method to evaluate the promise of each path.\n",
        "\n",
        "● Select the most promising path and generate a final solution.\n",
        "\n",
        "● Test your system with the following problem:"
      ],
      "metadata": {
        "id": "gZ4pMePlPcZL"
      }
    },
    {
      "cell_type": "code",
      "source": [
        "# First prompt template\n",
        "first_prompt = PromptTemplate(\n",
        "    input_variables=[\"topic\"],\n",
        "    template=\"Write a short introduction about {topic}.\"\n",
        ")\n",
        "\n",
        "# Second prompt template\n",
        "second_prompt = PromptTemplate(\n",
        "    input_variables=[\"introduction\"],\n",
        "    template=\"Based on this introduction, suggest 3 key points to expand upon: {introduction}\"\n",
        ")\n",
        "\n",
        "# Third prompt template\n",
        "third_prompt = PromptTemplate(\n",
        "    input_variables=[\"key_points\"],\n",
        "    template=\"For each of these key points, provide a brief explanation: {key_points}\"\n",
        ")\n",
        "\n",
        "# Create chains\n",
        "chain_one = LLMChain(llm=llm, prompt=first_prompt)\n",
        "chain_two = LLMChain(llm=llm, prompt=second_prompt)\n",
        "chain_three = LLMChain(llm=llm, prompt=third_prompt)\n",
        "\n",
        "# Create the sequential chain\n",
        "overall_chain = SimpleSequentialChain(\n",
        "    chains=[chain_one, chain_two, chain_three],\n",
        "    verbose=True\n",
        ")\n",
        "\n",
        "# Run the chain\n",
        "topic = \"Discover how branching structures in AI can foster creativity and improve decision-making\"\n",
        "result = overall_chain.run(topic)\n",
        "\n",
        "print(result)\n",
        ""
      ],
      "metadata": {
        "colab": {
          "base_uri": "https://localhost:8080/"
        },
        "id": "IH6Z7pFzPdaD",
        "outputId": "cfda6a3c-9b4a-4dbb-ea19-8c65e8781ce8"
      },
      "execution_count": 5,
      "outputs": [
        {
          "output_type": "stream",
          "name": "stdout",
          "text": [
            "\n",
            "\n",
            "\u001b[1m> Entering new SimpleSequentialChain chain...\u001b[0m\n",
            "\u001b[36;1m\u001b[1;3mBranching structures are a fundamental component of artificial intelligence (AI), enabling machines to make decisions and navigate complex scenarios. By mimicking the decision-making process of the human brain, AI systems can evaluate multiple options, analyze potential outcomes, and choose the most appropriate course of action. This capability not only enhances the problem-solving abilities of AI but also fosters creativity and improves decision-making.\n",
            "\n",
            "Branching structures allow AI to consider a wide range of possibilities, leading to more innovative solutions. By exploring different paths and alternatives, AI systems can generate novel ideas and approaches that may not have been considered by human decision-makers. Additionally, branching structures enable AI to learn from its experiences, refining its decision-making processes and improving its performance over time.\n",
            "\n",
            "In decision-making, branching structures enable AI to evaluate multiple factors and consider a range of options. This approach leads to more informed and accurate decisions, reducing the risk of errors and improving overall outcomes. Furthermore, branching structures allow AI to adapt to changing circumstances, making real-time adjustments and modifications as needed.\n",
            "\n",
            "In conclusion, branching structures are a powerful tool for fostering creativity and improving decision-making in AI. By enabling machines to consider a wide range of possibilities and learn from their experiences, branching structures enhance the problem-solving abilities of AI systems and lead to more informed and accurate decisions.\u001b[0m\n",
            "\u001b[33;1m\u001b[1;3m1. Enhancing Creativity in AI: Branching structures can significantly improve creativity in AI systems by allowing them to explore a wide range of possibilities and alternatives. This capability enables AI to generate novel ideas and approaches that may not have been considered by human decision-makers, leading to more innovative solutions. By mimicking the decision-making process of the human brain, AI systems can evaluate multiple options, analyze potential outcomes, and choose the most appropriate course of action. This capability not only enhances the problem-solving abilities of AI but also fosters creativity and improves decision-making.\n",
            "\n",
            "2. Improving Decision-Making Accuracy: Branching structures enable AI to evaluate multiple factors and consider a range of options, leading to more informed and accurate decisions. By analyzing different paths and alternatives, AI systems can make more precise decisions, reducing the risk of errors and improving overall outcomes. Furthermore, branching structures allow AI to adapt to changing circumstances, making real-time adjustments and modifications as needed. This capability is particularly important in dynamic scenarios where circumstances and conditions can change rapidly, requiring AI systems to make quick and accurate decisions.\n",
            "\n",
            "3. Learning from Experience: Branching structures enable AI systems to learn from their experiences, refining their decision-making processes and improving their performance over time. By considering a wide range of possibilities and alternatives, AI systems can identify patterns and trends in data, enabling them to make more informed decisions in the future. This capability is particularly important in scenarios where data is constantly changing, requiring AI systems to adapt and learn in real-time. Through this process, AI systems can refine their decision-making processes, leading to more accurate and effective outcomes.\u001b[0m\n",
            "\u001b[38;5;200m\u001b[1;3m1. Enhancing Creativity in AI: Branching structures in AI systems refer to the ability of the system to explore multiple possibilities and alternatives when making decisions or generating ideas. This capability is akin to the way the human brain works, where multiple options are evaluated before a decision is made. By mimicking this process, AI systems can generate novel ideas and approaches that may not have been considered by human decision-makers, leading to more innovative solutions.\n",
            "2. Improving Decision-Making Accuracy: Branching structures enable AI systems to evaluate multiple factors and consider a range of options before making a decision. This process leads to more informed and accurate decisions, reducing the risk of errors and improving overall outcomes. Furthermore, branching structures allow AI systems to adapt to changing circumstances, making real-time adjustments and modifications as needed. This capability is crucial in dynamic scenarios where conditions can change rapidly, requiring AI systems to make quick and accurate decisions.\n",
            "3. Learning from Experience: Branching structures enable AI systems to learn from their experiences, refining their decision-making processes and improving their performance over time. By considering a wide range of possibilities and alternatives, AI systems can identify patterns and trends in data, enabling them to make more informed decisions in the future. This capability is particularly important in scenarios where data is constantly changing, requiring AI systems to adapt and learn in real-time. Through this process, AI systems can refine their decision-making processes, leading to more accurate and effective outcomes.\u001b[0m\n",
            "\n",
            "\u001b[1m> Finished chain.\u001b[0m\n",
            "1. Enhancing Creativity in AI: Branching structures in AI systems refer to the ability of the system to explore multiple possibilities and alternatives when making decisions or generating ideas. This capability is akin to the way the human brain works, where multiple options are evaluated before a decision is made. By mimicking this process, AI systems can generate novel ideas and approaches that may not have been considered by human decision-makers, leading to more innovative solutions.\n",
            "2. Improving Decision-Making Accuracy: Branching structures enable AI systems to evaluate multiple factors and consider a range of options before making a decision. This process leads to more informed and accurate decisions, reducing the risk of errors and improving overall outcomes. Furthermore, branching structures allow AI systems to adapt to changing circumstances, making real-time adjustments and modifications as needed. This capability is crucial in dynamic scenarios where conditions can change rapidly, requiring AI systems to make quick and accurate decisions.\n",
            "3. Learning from Experience: Branching structures enable AI systems to learn from their experiences, refining their decision-making processes and improving their performance over time. By considering a wide range of possibilities and alternatives, AI systems can identify patterns and trends in data, enabling them to make more informed decisions in the future. This capability is particularly important in scenarios where data is constantly changing, requiring AI systems to adapt and learn in real-time. Through this process, AI systems can refine their decision-making processes, leading to more accurate and effective outcomes.\n"
          ]
        }
      ]
    }
  ]
}